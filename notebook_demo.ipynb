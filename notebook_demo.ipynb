{
 "cells": [
  {
   "cell_type": "markdown",
   "metadata": {},
   "source": [
    "# Crix11 - Dream11 AI Agent for IPL 2025\n",
    "\n",
    "This notebook demonstrates how to use the Dream11 AI Agent to create optimized fantasy cricket teams for IPL 2025."
   ]
  },
  {
   "cell_type": "code",
   "execution_count": null,
   "metadata": {},
   "source": [
    "import os\n",
    "import datetime\n",
    "import warnings\n",
    "from dotenv import load_dotenv\n",
    "from IPython.display import Markdown, display\n",
    "\n",
    "# Suppress warnings\n",
    "warnings.filterwarnings(\"ignore\")\n",
    "\n",
    "# Load environment variables\n",
    "load_dotenv()"
   ]
  },
  {
   "cell_type": "markdown",
   "metadata": {},
   "source": [
    "## Step 1: Check Environment Variables\n",
    "\n",
    "First, let's make sure our environment variables are set correctly."
   ]
  },
  {
   "cell_type": "code",
   "execution_count": null,
   "metadata": {},
   "source": [
    "# Check environment variables (don't show the actual keys)\n",
    "env_vars = {\n",
    "    \"OPENAI_API_KEY\": bool(os.getenv(\"OPENAI_API_KEY\")),\n",
    "    \"SERPER_API_KEY\": bool(os.getenv(\"SERPER_API_KEY\")),\n",
    "    \"MATCH_URL\": os.getenv(\"MATCH_URL\"),\n",
    "    \"PLAYER_STATS_URL\": os.getenv(\"PLAYER_STATS_URL\")\n",
    "}\n",
    "\n",
    "print(\"Environment Variables:\")\n",
    "for key, value in env_vars.items():\n",
    "    print(f\"- {key}: {'✅ Set' if value else '❌ Not Set'}\")"
   ]
  },
  {
   "cell_type": "markdown",
   "metadata": {},
   "source": [
    "## Step 2: Import Agent Modules"
   ]
  },
  {
   "cell_type": "code",
   "execution_count": null,
   "metadata": {},
   "source": [
    "from src.agents.todays_teams_agent import create_todays_teams_agent, create_todays_teams_task\n",
    "from src.agents.user_team_selector_agent import create_user_team_selector_agent, create_user_team_selector_task\n",
    "from src.agents.players_agent import create_players_agent, create_players_task\n",
    "from src.agents.team_selector_agent import create_team_selector_agent, create_team_selector_task\n",
    "from crewai import Crew, Process"
   ]
  },
  {
   "cell_type": "markdown",
   "metadata": {},
   "source": [
    "## Step 3: Set Up Agents and Tasks"
   ]
  },
  {
   "cell_type": "code",
   "execution_count": null,
   "metadata": {},
   "source": [
    "# Get current date\n",
    "current_date = datetime.datetime.now().strftime(\"%Y-%m-%d\")\n",
    "print(f\"Current Date: {current_date}\")\n",
    "\n",
    "# Get environment variables\n",
    "match_url = os.getenv(\"MATCH_URL\")\n",
    "player_stats_url = os.getenv(\"PLAYER_STATS_URL\")\n",
    "\n",
    "# Create agents\n",
    "todays_teams_agent = create_todays_teams_agent()\n",
    "user_team_selector_agent = create_user_team_selector_agent()\n",
    "players_agent = create_players_agent()\n",
    "team_selector_agent = create_team_selector_agent()\n",
    "\n",
    "# Create tasks\n",
    "todays_teams_task = create_todays_teams_task(todays_teams_agent, current_date, match_url)\n",
    "user_team_selector_task = create_user_team_selector_task(user_team_selector_agent, todays_teams_task)\n",
    "players_task = create_players_task(players_agent, user_team_selector_task, player_stats_url)\n",
    "select_players_task = create_team_selector_task(team_selector_agent, players_task)"
   ]
  },
  {
   "cell_type": "markdown",
   "metadata": {},
   "source": [
    "## Step 4: Run Today's Teams Agent First\n",
    "\n",
    "Let's first run just the Today's Teams agent to see what matches are available today."
   ]
  },
  {
   "cell_type": "code",
   "execution_count": null,
   "metadata": {},
   "source": [
    "# Create a crew with just the today's teams task\n",
    "todays_matches_crew = Crew(\n",
    "    agents=[todays_teams_agent],\n",
    "    tasks=[todays_teams_task],\n",
    "    verbose=True\n",
    ")\n",
    "\n",
    "# Run the crew\n",
    "todays_matches_result = todays_matches_crew.kickoff()\n",
    "\n",
    "# Display results\n",
    "display(Markdown(\"## Today's Matches\"))\n",
    "display(Markdown(todays_matches_result))"
   ]
  },
  {
   "cell_type": "markdown",
   "metadata": {},
   "source": [
    "## Step 5: Run the Full Dream11 Team Selection Process"
   ]
  },
  {
   "cell_type": "code",
   "execution_count": null,
   "metadata": {},
   "source": [
    "# Create crew for team selection\n",
    "team_crew = Crew(\n",
    "    agents=[user_team_selector_agent, players_agent, team_selector_agent],\n",
    "    tasks=[user_team_selector_task, players_task, select_players_task],\n",
    "    process=Process.sequential,\n",
    "    verbose=True\n",
    ")\n",
    "\n",
    "# Run the crew\n",
    "team_result = team_crew.kickoff()\n",
    "\n",
    "# Display results\n",
    "display(Markdown(\"## Dream11 Team Selection\"))\n",
    "display(Markdown(team_result))"
   ]
  },
  {
   "cell_type": "markdown",
   "metadata": {},
   "source": [
    "## Potential Improvements\n",
    "\n",
    "The Dream11 Team Selection System could be improved in several ways:\n",
    "\n",
    "1. **Real-Time Player Credit Details**: Integrate with Dream11 API for accurate credit values\n",
    "2. **RAG-Based System**: Implement a Retrieval-Augmented Generation approach with a database of IPL stats\n",
    "3. **Post-Toss Execution**: Run the system after the toss for confirmed playing 11\n",
    "4. **Enhanced User Customization**: Allow users more control over player selection"
   ]
  }
 ],
 "metadata": {
  "kernelspec": {
   "display_name": "Python 3",
   "language": "python",
   "name": "python3"
  },
  "language_info": {
   "codemirror_mode": {
    "name": "ipython",
    "version": 3
   },
   "file_extension": ".py",
   "mimetype": "text/x-python",
   "name": "python",
   "nbconvert_exporter": "python",
   "pygments_lexer": "ipython3",
   "version": "3.10.0"
  }
 },
 "nbformat": 4,
 "nbformat_minor": 4
}